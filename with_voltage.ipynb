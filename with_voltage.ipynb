{
  "nbformat": 4,
  "nbformat_minor": 0,
  "metadata": {
    "colab": {
      "provenance": [],
      "authorship_tag": "ABX9TyNouJfbaBFXR1sH4H1D/5lf",
      "include_colab_link": true
    },
    "kernelspec": {
      "name": "python3",
      "display_name": "Python 3"
    },
    "language_info": {
      "name": "python"
    }
  },
  "cells": [
    {
      "cell_type": "markdown",
      "metadata": {
        "id": "view-in-github",
        "colab_type": "text"
      },
      "source": [
        "<a href=\"https://colab.research.google.com/github/saitejachava2/SOH_NASA/blob/main/with_voltage.ipynb\" target=\"_parent\"><img src=\"https://colab.research.google.com/assets/colab-badge.svg\" alt=\"Open In Colab\"/></a>"
      ]
    },
    {
      "cell_type": "code",
      "metadata": {
        "id": "_O1qVqfG_Ivp"
      },
      "source": [
        "import numpy as np\n",
        "import pandas as pd\n",
        "import matplotlib.pyplot as plt\n",
        "import tensorflow as tf\n",
        "import keras\n",
        "import os\n",
        "import glob\n",
        "import seaborn as sns\n",
        "from mpl_toolkits.mplot3d import Axes3D\n",
        "import math\n",
        "\n",
        "import tensorflow as tf\n",
        "from sklearn.preprocessing import MinMaxScaler\n",
        "from sklearn.metrics import mean_squared_error, mean_absolute_error\n",
        "from keras.preprocessing.sequence import TimeseriesGenerator\n",
        "from keras.models import Sequential\n",
        "from keras.layers import Dense, LSTM, SimpleRNN, Dropout\n",
        "from keras.optimizers import RMSprop\n",
        "from keras.callbacks import ModelCheckpoint, EarlyStopping\n",
        "from keras.models import model_from_json\n",
        "from keras import optimizers"
      ],
      "execution_count": null,
      "outputs": []
    },
    {
      "cell_type": "code",
      "metadata": {
        "colab": {
          "base_uri": "https://localhost:8080/"
        },
        "id": "drnObO2Utcb2",
        "outputId": "3bb4c5b3-948c-4c85-fc30-015de343cbe7"
      },
      "source": [
        "dir = '/datasets'\n",
        "listdir = os.listdir(dir)\n",
        "\n",
        "print(listdir)\n",
        "print(\"The number of dataset :\", len(listdir))"
      ],
      "execution_count": null,
      "outputs": [
        {
          "output_type": "stream",
          "text": [
            "['dd1.csv']\n",
            "The number of dataset : 1\n"
          ],
          "name": "stdout"
        }
      ]
    },
    {
      "cell_type": "code",
      "metadata": {
        "id": "zZ4CSczltk9f"
      },
      "source": [
        "num = ['dd1']\n",
        "for i in range(len(listdir)):\n",
        "    vector = np.zeros((1,2))\n",
        "    path = os.path.join(os.getcwd(), '/datasets', num[i] + '.csv')\n",
        "    csv = pd.read_csv(path)\n",
        "    df = pd.DataFrame(csv)\n",
        "\n",
        "    vec = df[['terminal_voltage', 'terminal_current', 'SOH']]\n",
        "\n",
        "    globals()['data_{}'.format(num[i])] = vec"
      ],
      "execution_count": null,
      "outputs": []
    },
    {
      "cell_type": "code",
      "metadata": {
        "colab": {
          "base_uri": "https://localhost:8080/",
          "height": 418
        },
        "id": "xPf8apWit8_8",
        "outputId": "24b695a3-d807-4c99-dbaa-88bf622a8442"
      },
      "source": [
        "data = pd.read_csv('/datasets/dd1.csv')\n",
        "df = pd.DataFrame(data)\n",
        "df"
      ],
      "execution_count": null,
      "outputs": [
        {
          "output_type": "execute_result",
          "data": {
            "text/html": [
              "<div>\n",
              "<style scoped>\n",
              "    .dataframe tbody tr th:only-of-type {\n",
              "        vertical-align: middle;\n",
              "    }\n",
              "\n",
              "    .dataframe tbody tr th {\n",
              "        vertical-align: top;\n",
              "    }\n",
              "\n",
              "    .dataframe thead th {\n",
              "        text-align: right;\n",
              "    }\n",
              "</style>\n",
              "<table border=\"1\" class=\"dataframe\">\n",
              "  <thead>\n",
              "    <tr style=\"text-align: right;\">\n",
              "      <th></th>\n",
              "      <th>time</th>\n",
              "      <th>terminal_voltage</th>\n",
              "      <th>terminal_current</th>\n",
              "      <th>SOH</th>\n",
              "      <th>A.sec</th>\n",
              "      <th>A.h</th>\n",
              "      <th>SOC</th>\n",
              "      <th>cycle</th>\n",
              "      <th>capacity</th>\n",
              "      <th>temperature</th>\n",
              "    </tr>\n",
              "  </thead>\n",
              "  <tbody>\n",
              "    <tr>\n",
              "      <th>0</th>\n",
              "      <td>0.000</td>\n",
              "      <td>4.199360</td>\n",
              "      <td>-0.001866</td>\n",
              "      <td>0.945526</td>\n",
              "      <td>0.000000</td>\n",
              "      <td>0.000000</td>\n",
              "      <td>100.000000</td>\n",
              "      <td>1</td>\n",
              "      <td>1.891052</td>\n",
              "      <td>23.937044</td>\n",
              "    </tr>\n",
              "    <tr>\n",
              "      <th>1</th>\n",
              "      <td>16.781</td>\n",
              "      <td>4.199497</td>\n",
              "      <td>-0.002139</td>\n",
              "      <td>0.945526</td>\n",
              "      <td>-0.031312</td>\n",
              "      <td>-0.000009</td>\n",
              "      <td>99.999540</td>\n",
              "      <td>1</td>\n",
              "      <td>1.891052</td>\n",
              "      <td>23.924074</td>\n",
              "    </tr>\n",
              "    <tr>\n",
              "      <th>2</th>\n",
              "      <td>35.703</td>\n",
              "      <td>3.985606</td>\n",
              "      <td>-1.988778</td>\n",
              "      <td>0.945526</td>\n",
              "      <td>-0.071794</td>\n",
              "      <td>-0.000020</td>\n",
              "      <td>99.998945</td>\n",
              "      <td>1</td>\n",
              "      <td>1.891052</td>\n",
              "      <td>24.004257</td>\n",
              "    </tr>\n",
              "    <tr>\n",
              "      <th>3</th>\n",
              "      <td>53.781</td>\n",
              "      <td>3.963247</td>\n",
              "      <td>-1.992558</td>\n",
              "      <td>0.945526</td>\n",
              "      <td>-36.024925</td>\n",
              "      <td>-0.010007</td>\n",
              "      <td>99.470828</td>\n",
              "      <td>1</td>\n",
              "      <td>1.891052</td>\n",
              "      <td>24.162868</td>\n",
              "    </tr>\n",
              "    <tr>\n",
              "      <th>4</th>\n",
              "      <td>71.922</td>\n",
              "      <td>3.946647</td>\n",
              "      <td>-1.988491</td>\n",
              "      <td>0.945526</td>\n",
              "      <td>-72.171917</td>\n",
              "      <td>-0.020048</td>\n",
              "      <td>98.939862</td>\n",
              "      <td>1</td>\n",
              "      <td>1.891052</td>\n",
              "      <td>24.346368</td>\n",
              "    </tr>\n",
              "    <tr>\n",
              "      <th>...</th>\n",
              "      <td>...</td>\n",
              "      <td>...</td>\n",
              "      <td>...</td>\n",
              "      <td>...</td>\n",
              "      <td>...</td>\n",
              "      <td>...</td>\n",
              "      <td>...</td>\n",
              "      <td>...</td>\n",
              "      <td>...</td>\n",
              "      <td>...</td>\n",
              "    </tr>\n",
              "    <tr>\n",
              "      <th>100565</th>\n",
              "      <td>2781.312</td>\n",
              "      <td>3.579262</td>\n",
              "      <td>-0.001569</td>\n",
              "      <td>0.662540</td>\n",
              "      <td>-952197.282700</td>\n",
              "      <td>-264.499245</td>\n",
              "      <td>-19861.012100</td>\n",
              "      <td>168</td>\n",
              "      <td>1.325079</td>\n",
              "      <td>34.864823</td>\n",
              "    </tr>\n",
              "    <tr>\n",
              "      <th>100566</th>\n",
              "      <td>2791.062</td>\n",
              "      <td>3.581964</td>\n",
              "      <td>-0.003067</td>\n",
              "      <td>0.662540</td>\n",
              "      <td>-952197.298000</td>\n",
              "      <td>-264.499249</td>\n",
              "      <td>-19861.012420</td>\n",
              "      <td>168</td>\n",
              "      <td>1.325079</td>\n",
              "      <td>34.814770</td>\n",
              "    </tr>\n",
              "    <tr>\n",
              "      <th>100567</th>\n",
              "      <td>2800.828</td>\n",
              "      <td>3.584484</td>\n",
              "      <td>-0.003079</td>\n",
              "      <td>0.662540</td>\n",
              "      <td>-952197.327900</td>\n",
              "      <td>-264.499258</td>\n",
              "      <td>-19861.013050</td>\n",
              "      <td>168</td>\n",
              "      <td>1.325079</td>\n",
              "      <td>34.676258</td>\n",
              "    </tr>\n",
              "    <tr>\n",
              "      <th>100568</th>\n",
              "      <td>2810.640</td>\n",
              "      <td>3.587336</td>\n",
              "      <td>0.001219</td>\n",
              "      <td>0.662540</td>\n",
              "      <td>-952197.358200</td>\n",
              "      <td>-264.499266</td>\n",
              "      <td>-19861.013680</td>\n",
              "      <td>168</td>\n",
              "      <td>1.325079</td>\n",
              "      <td>34.565580</td>\n",
              "    </tr>\n",
              "    <tr>\n",
              "      <th>100569</th>\n",
              "      <td>2820.390</td>\n",
              "      <td>3.589937</td>\n",
              "      <td>-0.000583</td>\n",
              "      <td>0.662540</td>\n",
              "      <td>-952197.346300</td>\n",
              "      <td>-264.499263</td>\n",
              "      <td>-19861.013430</td>\n",
              "      <td>168</td>\n",
              "      <td>1.325079</td>\n",
              "      <td>34.405920</td>\n",
              "    </tr>\n",
              "  </tbody>\n",
              "</table>\n",
              "<p>100570 rows × 10 columns</p>\n",
              "</div>"
            ],
            "text/plain": [
              "            time  terminal_voltage  ...  capacity  temperature\n",
              "0          0.000          4.199360  ...  1.891052    23.937044\n",
              "1         16.781          4.199497  ...  1.891052    23.924074\n",
              "2         35.703          3.985606  ...  1.891052    24.004257\n",
              "3         53.781          3.963247  ...  1.891052    24.162868\n",
              "4         71.922          3.946647  ...  1.891052    24.346368\n",
              "...          ...               ...  ...       ...          ...\n",
              "100565  2781.312          3.579262  ...  1.325079    34.864823\n",
              "100566  2791.062          3.581964  ...  1.325079    34.814770\n",
              "100567  2800.828          3.584484  ...  1.325079    34.676258\n",
              "100568  2810.640          3.587336  ...  1.325079    34.565580\n",
              "100569  2820.390          3.589937  ...  1.325079    34.405920\n",
              "\n",
              "[100570 rows x 10 columns]"
            ]
          },
          "metadata": {
            "tags": []
          },
          "execution_count": 5
        }
      ]
    },
    {
      "cell_type": "code",
      "metadata": {
        "colab": {
          "base_uri": "https://localhost:8080/",
          "height": 418
        },
        "id": "fsRqgr6Mt_Rm",
        "outputId": "f97c96df-decd-42fe-f129-c15ae801d82e"
      },
      "source": [
        "data_dd1"
      ],
      "execution_count": null,
      "outputs": [
        {
          "output_type": "execute_result",
          "data": {
            "text/html": [
              "<div>\n",
              "<style scoped>\n",
              "    .dataframe tbody tr th:only-of-type {\n",
              "        vertical-align: middle;\n",
              "    }\n",
              "\n",
              "    .dataframe tbody tr th {\n",
              "        vertical-align: top;\n",
              "    }\n",
              "\n",
              "    .dataframe thead th {\n",
              "        text-align: right;\n",
              "    }\n",
              "</style>\n",
              "<table border=\"1\" class=\"dataframe\">\n",
              "  <thead>\n",
              "    <tr style=\"text-align: right;\">\n",
              "      <th></th>\n",
              "      <th>terminal_voltage</th>\n",
              "      <th>terminal_current</th>\n",
              "      <th>SOH</th>\n",
              "    </tr>\n",
              "  </thead>\n",
              "  <tbody>\n",
              "    <tr>\n",
              "      <th>0</th>\n",
              "      <td>4.199360</td>\n",
              "      <td>-0.001866</td>\n",
              "      <td>0.945526</td>\n",
              "    </tr>\n",
              "    <tr>\n",
              "      <th>1</th>\n",
              "      <td>4.199497</td>\n",
              "      <td>-0.002139</td>\n",
              "      <td>0.945526</td>\n",
              "    </tr>\n",
              "    <tr>\n",
              "      <th>2</th>\n",
              "      <td>3.985606</td>\n",
              "      <td>-1.988778</td>\n",
              "      <td>0.945526</td>\n",
              "    </tr>\n",
              "    <tr>\n",
              "      <th>3</th>\n",
              "      <td>3.963247</td>\n",
              "      <td>-1.992558</td>\n",
              "      <td>0.945526</td>\n",
              "    </tr>\n",
              "    <tr>\n",
              "      <th>4</th>\n",
              "      <td>3.946647</td>\n",
              "      <td>-1.988491</td>\n",
              "      <td>0.945526</td>\n",
              "    </tr>\n",
              "    <tr>\n",
              "      <th>...</th>\n",
              "      <td>...</td>\n",
              "      <td>...</td>\n",
              "      <td>...</td>\n",
              "    </tr>\n",
              "    <tr>\n",
              "      <th>100565</th>\n",
              "      <td>3.579262</td>\n",
              "      <td>-0.001569</td>\n",
              "      <td>0.662540</td>\n",
              "    </tr>\n",
              "    <tr>\n",
              "      <th>100566</th>\n",
              "      <td>3.581964</td>\n",
              "      <td>-0.003067</td>\n",
              "      <td>0.662540</td>\n",
              "    </tr>\n",
              "    <tr>\n",
              "      <th>100567</th>\n",
              "      <td>3.584484</td>\n",
              "      <td>-0.003079</td>\n",
              "      <td>0.662540</td>\n",
              "    </tr>\n",
              "    <tr>\n",
              "      <th>100568</th>\n",
              "      <td>3.587336</td>\n",
              "      <td>0.001219</td>\n",
              "      <td>0.662540</td>\n",
              "    </tr>\n",
              "    <tr>\n",
              "      <th>100569</th>\n",
              "      <td>3.589937</td>\n",
              "      <td>-0.000583</td>\n",
              "      <td>0.662540</td>\n",
              "    </tr>\n",
              "  </tbody>\n",
              "</table>\n",
              "<p>100570 rows × 3 columns</p>\n",
              "</div>"
            ],
            "text/plain": [
              "        terminal_voltage  terminal_current       SOH\n",
              "0               4.199360         -0.001866  0.945526\n",
              "1               4.199497         -0.002139  0.945526\n",
              "2               3.985606         -1.988778  0.945526\n",
              "3               3.963247         -1.992558  0.945526\n",
              "4               3.946647         -1.988491  0.945526\n",
              "...                  ...               ...       ...\n",
              "100565          3.579262         -0.001569  0.662540\n",
              "100566          3.581964         -0.003067  0.662540\n",
              "100567          3.584484         -0.003079  0.662540\n",
              "100568          3.587336          0.001219  0.662540\n",
              "100569          3.589937         -0.000583  0.662540\n",
              "\n",
              "[100570 rows x 3 columns]"
            ]
          },
          "metadata": {
            "tags": []
          },
          "execution_count": 6
        }
      ]
    },
    {
      "cell_type": "code",
      "metadata": {
        "colab": {
          "base_uri": "https://localhost:8080/"
        },
        "id": "c2WwAbAfuF89",
        "outputId": "ba53345b-3dd4-484d-83d3-26f29ef4adca"
      },
      "source": [
        "for i in range(len(listdir)):\n",
        "    print(\"Shape of data :\", np.shape(globals()['data_{}'.format(num[i])]))"
      ],
      "execution_count": null,
      "outputs": [
        {
          "output_type": "stream",
          "text": [
            "Shape of data : (100570, 3)\n"
          ],
          "name": "stdout"
        }
      ]
    },
    {
      "cell_type": "code",
      "metadata": {
        "colab": {
          "base_uri": "https://localhost:8080/"
        },
        "id": "0s6WJYgPuSHS",
        "outputId": "c175d573-7be6-4bb2-a8e6-20cf1ef41689"
      },
      "source": [
        "print(listdir)\n",
        "dataset = data_dd1[\"SOH\"]\n",
        "output = data_dd1['terminal_voltage']\n",
        "\n",
        "\n",
        "dataset = np.array(dataset)\n",
        "dataset = dataset.reshape((len(dataset),1))\n",
        "dataset.shape"
      ],
      "execution_count": null,
      "outputs": [
        {
          "output_type": "stream",
          "text": [
            "['dd1.csv']\n"
          ],
          "name": "stdout"
        },
        {
          "output_type": "execute_result",
          "data": {
            "text/plain": [
              "(100570, 1)"
            ]
          },
          "metadata": {
            "tags": []
          },
          "execution_count": 67
        }
      ]
    },
    {
      "cell_type": "code",
      "metadata": {
        "colab": {
          "base_uri": "https://localhost:8080/"
        },
        "id": "ZFEXYLV4ua2o",
        "outputId": "9bed5145-6ba1-4aeb-9d5b-ec752c2aafb2"
      },
      "source": [
        "train_size = int(len(dataset) * 0.5)\n",
        "# train_size = int(len(dataset) * 0.5)\n",
        "test_size = len(dataset) - train_size\n",
        "train, test = dataset[0:train_size,:], dataset[train_size:len(dataset),:]\n",
        "print(len(train), len(test))"
      ],
      "execution_count": null,
      "outputs": [
        {
          "output_type": "stream",
          "text": [
            "50285 50285\n"
          ],
          "name": "stdout"
        }
      ]
    },
    {
      "cell_type": "code",
      "metadata": {
        "id": "OLja_KtXue6l"
      },
      "source": [
        "def create_dataset(dataset, look_back=1):\n",
        "    dataX, dataY = [], []\n",
        "    for i in range(len(dataset) - look_back):\n",
        "        a = dataset[i:(i + look_back), 0]\n",
        "        dataX.append(a)\n",
        "        dataY.append(dataset[i + look_back, 0])\n",
        "    print(len(dataY))\n",
        "    return np.array(dataX), np.array(dataY)"
      ],
      "execution_count": null,
      "outputs": []
    },
    {
      "cell_type": "code",
      "metadata": {
        "colab": {
          "base_uri": "https://localhost:8080/"
        },
        "id": "Dqgk3jgGuldc",
        "outputId": "b5f981f7-9214-477d-a428-151cb1ed4afc"
      },
      "source": [
        "look_back = 1\n",
        "trainX, trainY = create_dataset(train, look_back)\n",
        "testX, testY = create_dataset(test, look_back)"
      ],
      "execution_count": null,
      "outputs": [
        {
          "output_type": "stream",
          "text": [
            "50284\n",
            "50284\n"
          ],
          "name": "stdout"
        }
      ]
    },
    {
      "cell_type": "code",
      "metadata": {
        "colab": {
          "base_uri": "https://localhost:8080/"
        },
        "id": "pzLrhOGaupiI",
        "outputId": "e17892bc-e259-4313-f67f-295c9f1318c1"
      },
      "source": [
        "trainX = np.reshape(trainX, (trainX.shape[0], 1, trainX.shape[1]))\n",
        "testX = np.reshape(testX, (testX.shape[0], 1, testX.shape[1]))\n",
        "\n",
        "print(trainX.shape)\n",
        "print(testX.shape)"
      ],
      "execution_count": null,
      "outputs": [
        {
          "output_type": "stream",
          "text": [
            "(50284, 1, 1)\n",
            "(50284, 1, 1)\n"
          ],
          "name": "stdout"
        }
      ]
    },
    {
      "cell_type": "code",
      "metadata": {
        "id": "yyvglSRZurSw"
      },
      "source": [
        "model = Sequential()\n",
        "model.add(LSTM(64, input_shape=(trainX.shape[1], trainX.shape[2])))\n",
        "\n",
        "model.add(Dense(1))\n",
        "\n",
        "model.compile(loss='mae', optimizer='adam')"
      ],
      "execution_count": null,
      "outputs": []
    },
    {
      "cell_type": "code",
      "metadata": {
        "colab": {
          "base_uri": "https://localhost:8080/"
        },
        "id": "Ah0v7fWCuvyH",
        "outputId": "4ed2ac9b-7da1-42ef-90e9-ce25e01a7b3c"
      },
      "source": [
        "history = model.fit(trainX, trainY, epochs=200, batch_size=20, validation_data=(testX, testY), verbose=1, shuffle = False)"
      ],
      "execution_count": null,
      "outputs": [
        {
          "output_type": "stream",
          "text": [
            "Epoch 1/200\n",
            "2515/2515 [==============================] - 9s 4ms/step - loss: 0.0016 - val_loss: 0.0319\n",
            "Epoch 2/200\n",
            "2515/2515 [==============================] - 9s 3ms/step - loss: 0.0016 - val_loss: 0.0322\n",
            "Epoch 3/200\n",
            "2515/2515 [==============================] - 9s 4ms/step - loss: 0.0015 - val_loss: 0.0311\n",
            "Epoch 4/200\n",
            "2515/2515 [==============================] - 9s 4ms/step - loss: 0.0016 - val_loss: 0.0311\n",
            "Epoch 5/200\n",
            "2515/2515 [==============================] - 11s 4ms/step - loss: 0.0015 - val_loss: 0.0305\n",
            "Epoch 6/200\n",
            "2515/2515 [==============================] - 11s 4ms/step - loss: 0.0015 - val_loss: 0.0322\n",
            "Epoch 7/200\n",
            "2515/2515 [==============================] - 11s 4ms/step - loss: 0.0014 - val_loss: 0.0312\n",
            "Epoch 8/200\n",
            "2515/2515 [==============================] - 9s 4ms/step - loss: 0.0015 - val_loss: 0.0324\n",
            "Epoch 9/200\n",
            "2515/2515 [==============================] - 9s 4ms/step - loss: 0.0015 - val_loss: 0.0302\n",
            "Epoch 10/200\n",
            "2515/2515 [==============================] - 11s 4ms/step - loss: 0.0014 - val_loss: 0.0320\n",
            "Epoch 11/200\n",
            "2515/2515 [==============================] - 11s 4ms/step - loss: 0.0015 - val_loss: 0.0303\n",
            "Epoch 12/200\n",
            "2515/2515 [==============================] - 9s 4ms/step - loss: 0.0014 - val_loss: 0.0299\n",
            "Epoch 13/200\n",
            "2515/2515 [==============================] - 9s 4ms/step - loss: 0.0015 - val_loss: 0.0292\n",
            "Epoch 14/200\n",
            "2515/2515 [==============================] - 9s 3ms/step - loss: 0.0014 - val_loss: 0.0294\n",
            "Epoch 15/200\n",
            "2515/2515 [==============================] - 9s 4ms/step - loss: 0.0014 - val_loss: 0.0298\n",
            "Epoch 16/200\n",
            "2515/2515 [==============================] - 11s 4ms/step - loss: 0.0014 - val_loss: 0.0294\n",
            "Epoch 17/200\n",
            "2515/2515 [==============================] - 9s 3ms/step - loss: 0.0014 - val_loss: 0.0304\n",
            "Epoch 18/200\n",
            "2515/2515 [==============================] - 9s 4ms/step - loss: 0.0014 - val_loss: 0.0293\n",
            "Epoch 19/200\n",
            "2515/2515 [==============================] - 11s 4ms/step - loss: 0.0015 - val_loss: 0.0294\n",
            "Epoch 20/200\n",
            "2515/2515 [==============================] - 9s 4ms/step - loss: 0.0015 - val_loss: 0.0284\n",
            "Epoch 21/200\n",
            "2515/2515 [==============================] - 11s 4ms/step - loss: 0.0014 - val_loss: 0.0288\n",
            "Epoch 22/200\n",
            "2515/2515 [==============================] - 9s 4ms/step - loss: 0.0014 - val_loss: 0.0280\n",
            "Epoch 23/200\n",
            "2515/2515 [==============================] - 9s 4ms/step - loss: 0.0013 - val_loss: 0.0287\n",
            "Epoch 24/200\n",
            "2515/2515 [==============================] - 9s 4ms/step - loss: 0.0013 - val_loss: 0.0274\n",
            "Epoch 25/200\n",
            "2515/2515 [==============================] - 9s 3ms/step - loss: 0.0013 - val_loss: 0.0286\n",
            "Epoch 26/200\n",
            "2515/2515 [==============================] - 9s 4ms/step - loss: 0.0014 - val_loss: 0.0280\n",
            "Epoch 27/200\n",
            "2515/2515 [==============================] - 11s 4ms/step - loss: 0.0013 - val_loss: 0.0277\n",
            "Epoch 28/200\n",
            "2515/2515 [==============================] - 11s 4ms/step - loss: 0.0013 - val_loss: 0.0275\n",
            "Epoch 29/200\n",
            "2515/2515 [==============================] - 11s 4ms/step - loss: 0.0014 - val_loss: 0.0275\n",
            "Epoch 30/200\n",
            "2515/2515 [==============================] - 11s 4ms/step - loss: 0.0014 - val_loss: 0.0269\n",
            "Epoch 31/200\n",
            "2515/2515 [==============================] - 9s 4ms/step - loss: 0.0014 - val_loss: 0.0269\n",
            "Epoch 32/200\n",
            "2515/2515 [==============================] - 11s 4ms/step - loss: 0.0013 - val_loss: 0.0272\n",
            "Epoch 33/200\n",
            "2515/2515 [==============================] - 9s 4ms/step - loss: 0.0014 - val_loss: 0.0273\n",
            "Epoch 34/200\n",
            "2515/2515 [==============================] - 9s 4ms/step - loss: 0.0014 - val_loss: 0.0260\n",
            "Epoch 35/200\n",
            "2515/2515 [==============================] - 11s 5ms/step - loss: 0.0013 - val_loss: 0.0260\n",
            "Epoch 36/200\n",
            "2515/2515 [==============================] - 9s 4ms/step - loss: 0.0013 - val_loss: 0.0257\n",
            "Epoch 37/200\n",
            "2515/2515 [==============================] - 9s 4ms/step - loss: 0.0013 - val_loss: 0.0263\n",
            "Epoch 38/200\n",
            "2515/2515 [==============================] - 11s 5ms/step - loss: 0.0013 - val_loss: 0.0263\n",
            "Epoch 39/200\n",
            "2515/2515 [==============================] - 9s 4ms/step - loss: 0.0012 - val_loss: 0.0257\n",
            "Epoch 40/200\n",
            "2515/2515 [==============================] - 9s 4ms/step - loss: 0.0012 - val_loss: 0.0257\n",
            "Epoch 41/200\n",
            "2515/2515 [==============================] - 9s 3ms/step - loss: 0.0012 - val_loss: 0.0254\n",
            "Epoch 42/200\n",
            "2515/2515 [==============================] - 9s 3ms/step - loss: 0.0013 - val_loss: 0.0252\n",
            "Epoch 43/200\n",
            "2515/2515 [==============================] - 9s 3ms/step - loss: 0.0013 - val_loss: 0.0252\n",
            "Epoch 44/200\n",
            "2515/2515 [==============================] - 9s 3ms/step - loss: 0.0012 - val_loss: 0.0263\n",
            "Epoch 45/200\n",
            "2515/2515 [==============================] - 9s 3ms/step - loss: 0.0014 - val_loss: 0.0259\n",
            "Epoch 46/200\n",
            "2515/2515 [==============================] - 9s 4ms/step - loss: 0.0014 - val_loss: 0.0254\n",
            "Epoch 47/200\n",
            "2515/2515 [==============================] - 11s 5ms/step - loss: 0.0014 - val_loss: 0.0249\n",
            "Epoch 48/200\n",
            "2515/2515 [==============================] - 11s 4ms/step - loss: 0.0013 - val_loss: 0.0249\n",
            "Epoch 49/200\n",
            "2515/2515 [==============================] - 9s 4ms/step - loss: 0.0013 - val_loss: 0.0249\n",
            "Epoch 50/200\n",
            "2515/2515 [==============================] - 11s 5ms/step - loss: 0.0013 - val_loss: 0.0248\n",
            "Epoch 51/200\n",
            "2515/2515 [==============================] - 9s 4ms/step - loss: 0.0011 - val_loss: 0.0251\n",
            "Epoch 52/200\n",
            "2515/2515 [==============================] - 11s 5ms/step - loss: 0.0012 - val_loss: 0.0244\n",
            "Epoch 53/200\n",
            "2515/2515 [==============================] - 12s 5ms/step - loss: 0.0012 - val_loss: 0.0249\n",
            "Epoch 54/200\n",
            "2515/2515 [==============================] - 10s 4ms/step - loss: 0.0012 - val_loss: 0.0238\n",
            "Epoch 55/200\n",
            "2515/2515 [==============================] - 12s 5ms/step - loss: 0.0011 - val_loss: 0.0244\n",
            "Epoch 56/200\n",
            "2515/2515 [==============================] - 12s 5ms/step - loss: 0.0012 - val_loss: 0.0247\n",
            "Epoch 57/200\n",
            "2515/2515 [==============================] - 10s 4ms/step - loss: 0.0012 - val_loss: 0.0234\n",
            "Epoch 58/200\n",
            "2515/2515 [==============================] - 10s 4ms/step - loss: 0.0013 - val_loss: 0.0240\n",
            "Epoch 59/200\n",
            "2515/2515 [==============================] - 10s 4ms/step - loss: 0.0013 - val_loss: 0.0240\n",
            "Epoch 60/200\n",
            "2515/2515 [==============================] - 10s 4ms/step - loss: 0.0012 - val_loss: 0.0234\n",
            "Epoch 61/200\n",
            "2515/2515 [==============================] - 10s 4ms/step - loss: 0.0012 - val_loss: 0.0227\n",
            "Epoch 62/200\n",
            "2515/2515 [==============================] - 12s 5ms/step - loss: 0.0011 - val_loss: 0.0229\n",
            "Epoch 63/200\n",
            "2515/2515 [==============================] - 10s 4ms/step - loss: 0.0012 - val_loss: 0.0232\n",
            "Epoch 64/200\n",
            "2515/2515 [==============================] - 10s 4ms/step - loss: 0.0012 - val_loss: 0.0230\n",
            "Epoch 65/200\n",
            "2515/2515 [==============================] - 10s 4ms/step - loss: 0.0012 - val_loss: 0.0227\n",
            "Epoch 66/200\n",
            "2515/2515 [==============================] - 12s 5ms/step - loss: 0.0011 - val_loss: 0.0223\n",
            "Epoch 67/200\n",
            "2515/2515 [==============================] - 10s 4ms/step - loss: 0.0011 - val_loss: 0.0221\n",
            "Epoch 68/200\n",
            "2515/2515 [==============================] - 10s 4ms/step - loss: 0.0011 - val_loss: 0.0219\n",
            "Epoch 69/200\n",
            "2515/2515 [==============================] - 12s 5ms/step - loss: 0.0011 - val_loss: 0.0215\n",
            "Epoch 70/200\n",
            "2515/2515 [==============================] - 12s 5ms/step - loss: 0.0011 - val_loss: 0.0215\n",
            "Epoch 71/200\n",
            "2515/2515 [==============================] - 10s 4ms/step - loss: 0.0012 - val_loss: 0.0211\n",
            "Epoch 72/200\n",
            "2515/2515 [==============================] - 10s 4ms/step - loss: 0.0012 - val_loss: 0.0205\n",
            "Epoch 73/200\n",
            "2515/2515 [==============================] - 12s 5ms/step - loss: 0.0010 - val_loss: 0.0215\n",
            "Epoch 74/200\n",
            "2515/2515 [==============================] - 10s 4ms/step - loss: 0.0011 - val_loss: 0.0200\n",
            "Epoch 75/200\n",
            "2515/2515 [==============================] - 12s 5ms/step - loss: 0.0010 - val_loss: 0.0204\n",
            "Epoch 76/200\n",
            "2515/2515 [==============================] - 12s 5ms/step - loss: 0.0010 - val_loss: 0.0201\n",
            "Epoch 77/200\n",
            "2515/2515 [==============================] - 10s 4ms/step - loss: 0.0012 - val_loss: 0.0201\n",
            "Epoch 78/200\n",
            "2515/2515 [==============================] - 10s 4ms/step - loss: 0.0011 - val_loss: 0.0206\n",
            "Epoch 79/200\n",
            "2515/2515 [==============================] - 12s 5ms/step - loss: 0.0011 - val_loss: 0.0205\n",
            "Epoch 80/200\n",
            "2515/2515 [==============================] - 12s 5ms/step - loss: 0.0010 - val_loss: 0.0197\n",
            "Epoch 81/200\n",
            "2515/2515 [==============================] - 12s 5ms/step - loss: 0.0011 - val_loss: 0.0199\n",
            "Epoch 82/200\n",
            "2515/2515 [==============================] - 12s 5ms/step - loss: 0.0011 - val_loss: 0.0193\n",
            "Epoch 83/200\n",
            "2515/2515 [==============================] - 12s 5ms/step - loss: 0.0011 - val_loss: 0.0202\n",
            "Epoch 84/200\n",
            "2515/2515 [==============================] - 12s 5ms/step - loss: 0.0011 - val_loss: 0.0196\n",
            "Epoch 85/200\n",
            "2515/2515 [==============================] - 10s 4ms/step - loss: 9.9705e-04 - val_loss: 0.0204\n",
            "Epoch 86/200\n",
            "2515/2515 [==============================] - 10s 4ms/step - loss: 0.0011 - val_loss: 0.0201\n",
            "Epoch 87/200\n",
            "2515/2515 [==============================] - 12s 5ms/step - loss: 0.0011 - val_loss: 0.0197\n",
            "Epoch 88/200\n",
            "2515/2515 [==============================] - 12s 5ms/step - loss: 0.0010 - val_loss: 0.0198\n",
            "Epoch 89/200\n",
            "2515/2515 [==============================] - 12s 5ms/step - loss: 0.0010 - val_loss: 0.0197\n",
            "Epoch 90/200\n",
            "2515/2515 [==============================] - 12s 5ms/step - loss: 0.0011 - val_loss: 0.0191\n",
            "Epoch 91/200\n",
            "2515/2515 [==============================] - 10s 4ms/step - loss: 0.0010 - val_loss: 0.0195\n",
            "Epoch 92/200\n",
            "2515/2515 [==============================] - 12s 5ms/step - loss: 0.0011 - val_loss: 0.0194\n",
            "Epoch 93/200\n",
            "2515/2515 [==============================] - 12s 5ms/step - loss: 0.0010 - val_loss: 0.0193\n",
            "Epoch 94/200\n",
            "2515/2515 [==============================] - 12s 5ms/step - loss: 0.0010 - val_loss: 0.0189\n",
            "Epoch 95/200\n",
            "2515/2515 [==============================] - 9s 4ms/step - loss: 0.0011 - val_loss: 0.0185\n",
            "Epoch 96/200\n",
            "2515/2515 [==============================] - 10s 4ms/step - loss: 0.0010 - val_loss: 0.0182\n",
            "Epoch 97/200\n",
            "2515/2515 [==============================] - 10s 4ms/step - loss: 0.0010 - val_loss: 0.0183\n",
            "Epoch 98/200\n",
            "2515/2515 [==============================] - 9s 4ms/step - loss: 9.9563e-04 - val_loss: 0.0189\n",
            "Epoch 99/200\n",
            "2515/2515 [==============================] - 12s 5ms/step - loss: 0.0011 - val_loss: 0.0188\n",
            "Epoch 100/200\n",
            "2515/2515 [==============================] - 12s 5ms/step - loss: 0.0010 - val_loss: 0.0181\n",
            "Epoch 101/200\n",
            "2515/2515 [==============================] - 12s 5ms/step - loss: 9.7606e-04 - val_loss: 0.0175\n",
            "Epoch 102/200\n",
            "2515/2515 [==============================] - 10s 4ms/step - loss: 0.0011 - val_loss: 0.0175\n",
            "Epoch 103/200\n",
            "2515/2515 [==============================] - 12s 5ms/step - loss: 9.4836e-04 - val_loss: 0.0172\n",
            "Epoch 104/200\n",
            "2515/2515 [==============================] - 10s 4ms/step - loss: 9.4901e-04 - val_loss: 0.0176\n",
            "Epoch 105/200\n",
            "2515/2515 [==============================] - 10s 4ms/step - loss: 9.5855e-04 - val_loss: 0.0183\n",
            "Epoch 106/200\n",
            "2515/2515 [==============================] - 12s 5ms/step - loss: 0.0010 - val_loss: 0.0175\n",
            "Epoch 107/200\n",
            "2515/2515 [==============================] - 12s 5ms/step - loss: 9.8164e-04 - val_loss: 0.0171\n",
            "Epoch 108/200\n",
            "2515/2515 [==============================] - 12s 5ms/step - loss: 9.2423e-04 - val_loss: 0.0173\n",
            "Epoch 109/200\n",
            "2515/2515 [==============================] - 12s 5ms/step - loss: 9.8765e-04 - val_loss: 0.0168\n",
            "Epoch 110/200\n",
            "2515/2515 [==============================] - 12s 5ms/step - loss: 9.7063e-04 - val_loss: 0.0172\n",
            "Epoch 111/200\n",
            "2515/2515 [==============================] - 12s 5ms/step - loss: 9.5618e-04 - val_loss: 0.0174\n",
            "Epoch 112/200\n",
            "2515/2515 [==============================] - 12s 5ms/step - loss: 9.4526e-04 - val_loss: 0.0166\n",
            "Epoch 113/200\n",
            "2515/2515 [==============================] - 10s 4ms/step - loss: 9.0999e-04 - val_loss: 0.0169\n",
            "Epoch 114/200\n",
            "2515/2515 [==============================] - 12s 5ms/step - loss: 0.0010 - val_loss: 0.0163\n",
            "Epoch 115/200\n",
            "2515/2515 [==============================] - 10s 4ms/step - loss: 9.8363e-04 - val_loss: 0.0163\n",
            "Epoch 116/200\n",
            "2515/2515 [==============================] - 10s 4ms/step - loss: 8.7459e-04 - val_loss: 0.0164\n",
            "Epoch 117/200\n",
            "2515/2515 [==============================] - 12s 5ms/step - loss: 0.0010 - val_loss: 0.0165\n",
            "Epoch 118/200\n",
            "2515/2515 [==============================] - 12s 5ms/step - loss: 9.4824e-04 - val_loss: 0.0160\n",
            "Epoch 119/200\n",
            "2515/2515 [==============================] - 10s 4ms/step - loss: 9.7053e-04 - val_loss: 0.0162\n",
            "Epoch 120/200\n",
            "2515/2515 [==============================] - 12s 5ms/step - loss: 9.1312e-04 - val_loss: 0.0158\n",
            "Epoch 121/200\n",
            "2515/2515 [==============================] - 12s 5ms/step - loss: 9.4152e-04 - val_loss: 0.0157\n",
            "Epoch 122/200\n",
            "2515/2515 [==============================] - 12s 5ms/step - loss: 9.7448e-04 - val_loss: 0.0155\n",
            "Epoch 123/200\n",
            "2515/2515 [==============================] - 12s 5ms/step - loss: 9.4253e-04 - val_loss: 0.0156\n",
            "Epoch 124/200\n",
            "2515/2515 [==============================] - 10s 4ms/step - loss: 9.3693e-04 - val_loss: 0.0154\n",
            "Epoch 125/200\n",
            "2515/2515 [==============================] - 12s 5ms/step - loss: 9.0459e-04 - val_loss: 0.0150\n",
            "Epoch 126/200\n",
            "2515/2515 [==============================] - 12s 5ms/step - loss: 8.4779e-04 - val_loss: 0.0159\n",
            "Epoch 127/200\n",
            "2515/2515 [==============================] - 12s 5ms/step - loss: 9.2055e-04 - val_loss: 0.0158\n",
            "Epoch 128/200\n",
            "2515/2515 [==============================] - 10s 4ms/step - loss: 9.2194e-04 - val_loss: 0.0152\n",
            "Epoch 129/200\n",
            "2515/2515 [==============================] - 10s 4ms/step - loss: 8.5665e-04 - val_loss: 0.0163\n",
            "Epoch 130/200\n",
            "2515/2515 [==============================] - 12s 5ms/step - loss: 9.3052e-04 - val_loss: 0.0157\n",
            "Epoch 131/200\n",
            "2515/2515 [==============================] - 12s 5ms/step - loss: 9.0147e-04 - val_loss: 0.0156\n",
            "Epoch 132/200\n",
            "2515/2515 [==============================] - 10s 4ms/step - loss: 9.3754e-04 - val_loss: 0.0154\n",
            "Epoch 133/200\n",
            "2515/2515 [==============================] - 10s 4ms/step - loss: 9.5662e-04 - val_loss: 0.0160\n",
            "Epoch 134/200\n",
            "2515/2515 [==============================] - 10s 4ms/step - loss: 9.2677e-04 - val_loss: 0.0161\n",
            "Epoch 135/200\n",
            "2515/2515 [==============================] - 12s 5ms/step - loss: 9.0063e-04 - val_loss: 0.0157\n",
            "Epoch 136/200\n",
            "2515/2515 [==============================] - 10s 4ms/step - loss: 8.8036e-04 - val_loss: 0.0156\n",
            "Epoch 137/200\n",
            "2515/2515 [==============================] - 10s 4ms/step - loss: 9.5513e-04 - val_loss: 0.0156\n",
            "Epoch 138/200\n",
            "2515/2515 [==============================] - 10s 4ms/step - loss: 8.8529e-04 - val_loss: 0.0149\n",
            "Epoch 139/200\n",
            "2515/2515 [==============================] - 10s 4ms/step - loss: 9.2666e-04 - val_loss: 0.0151\n",
            "Epoch 140/200\n",
            "2515/2515 [==============================] - 10s 4ms/step - loss: 9.0191e-04 - val_loss: 0.0156\n",
            "Epoch 141/200\n",
            "2515/2515 [==============================] - 12s 5ms/step - loss: 8.5854e-04 - val_loss: 0.0157\n",
            "Epoch 142/200\n",
            "2515/2515 [==============================] - 12s 5ms/step - loss: 8.7612e-04 - val_loss: 0.0157\n",
            "Epoch 143/200\n",
            "2515/2515 [==============================] - 12s 5ms/step - loss: 8.2004e-04 - val_loss: 0.0155\n",
            "Epoch 144/200\n",
            "2515/2515 [==============================] - 10s 4ms/step - loss: 8.9632e-04 - val_loss: 0.0156\n",
            "Epoch 145/200\n",
            "2515/2515 [==============================] - 10s 4ms/step - loss: 9.2254e-04 - val_loss: 0.0158\n",
            "Epoch 146/200\n",
            "2515/2515 [==============================] - 12s 5ms/step - loss: 9.2783e-04 - val_loss: 0.0154\n",
            "Epoch 147/200\n",
            "2515/2515 [==============================] - 12s 5ms/step - loss: 8.9175e-04 - val_loss: 0.0152\n",
            "Epoch 148/200\n",
            "2515/2515 [==============================] - 12s 5ms/step - loss: 8.8005e-04 - val_loss: 0.0145\n",
            "Epoch 149/200\n",
            "2515/2515 [==============================] - 10s 4ms/step - loss: 8.5951e-04 - val_loss: 0.0155\n",
            "Epoch 150/200\n",
            "2515/2515 [==============================] - 12s 5ms/step - loss: 8.6651e-04 - val_loss: 0.0151\n",
            "Epoch 151/200\n",
            "2515/2515 [==============================] - 12s 5ms/step - loss: 9.2928e-04 - val_loss: 0.0150\n",
            "Epoch 152/200\n",
            "2515/2515 [==============================] - 10s 4ms/step - loss: 8.6708e-04 - val_loss: 0.0153\n",
            "Epoch 153/200\n",
            "2515/2515 [==============================] - 10s 4ms/step - loss: 8.7715e-04 - val_loss: 0.0155\n",
            "Epoch 154/200\n",
            "2515/2515 [==============================] - 10s 4ms/step - loss: 9.3324e-04 - val_loss: 0.0150\n",
            "Epoch 155/200\n",
            "2515/2515 [==============================] - 12s 5ms/step - loss: 8.3239e-04 - val_loss: 0.0154\n",
            "Epoch 156/200\n",
            "2515/2515 [==============================] - 12s 5ms/step - loss: 9.2077e-04 - val_loss: 0.0152\n",
            "Epoch 157/200\n",
            "2515/2515 [==============================] - 12s 5ms/step - loss: 8.8869e-04 - val_loss: 0.0152\n",
            "Epoch 158/200\n",
            "2515/2515 [==============================] - 12s 5ms/step - loss: 8.8659e-04 - val_loss: 0.0151\n",
            "Epoch 159/200\n",
            "2515/2515 [==============================] - 12s 5ms/step - loss: 8.4990e-04 - val_loss: 0.0142\n",
            "Epoch 160/200\n",
            "2515/2515 [==============================] - 10s 4ms/step - loss: 8.5888e-04 - val_loss: 0.0152\n",
            "Epoch 161/200\n",
            "2515/2515 [==============================] - 12s 5ms/step - loss: 9.0297e-04 - val_loss: 0.0143\n",
            "Epoch 162/200\n",
            "2515/2515 [==============================] - 10s 4ms/step - loss: 8.9637e-04 - val_loss: 0.0151\n",
            "Epoch 163/200\n",
            "2515/2515 [==============================] - 10s 4ms/step - loss: 9.4025e-04 - val_loss: 0.0147\n",
            "Epoch 164/200\n",
            "2515/2515 [==============================] - 12s 5ms/step - loss: 8.2747e-04 - val_loss: 0.0149\n",
            "Epoch 165/200\n",
            "2515/2515 [==============================] - 12s 5ms/step - loss: 8.5358e-04 - val_loss: 0.0144\n",
            "Epoch 166/200\n",
            "2515/2515 [==============================] - 12s 5ms/step - loss: 8.7050e-04 - val_loss: 0.0135\n",
            "Epoch 167/200\n",
            "2515/2515 [==============================] - 10s 4ms/step - loss: 8.4353e-04 - val_loss: 0.0137\n",
            "Epoch 168/200\n",
            "2515/2515 [==============================] - 12s 5ms/step - loss: 8.6317e-04 - val_loss: 0.0137\n",
            "Epoch 169/200\n",
            "2515/2515 [==============================] - 12s 5ms/step - loss: 8.6949e-04 - val_loss: 0.0139\n",
            "Epoch 170/200\n",
            "2515/2515 [==============================] - 10s 4ms/step - loss: 8.4615e-04 - val_loss: 0.0144\n",
            "Epoch 171/200\n",
            "2515/2515 [==============================] - 12s 5ms/step - loss: 8.6222e-04 - val_loss: 0.0144\n",
            "Epoch 172/200\n",
            "2515/2515 [==============================] - 10s 4ms/step - loss: 8.8160e-04 - val_loss: 0.0137\n",
            "Epoch 173/200\n",
            "2515/2515 [==============================] - 12s 5ms/step - loss: 8.8405e-04 - val_loss: 0.0143\n",
            "Epoch 174/200\n",
            "2515/2515 [==============================] - 12s 5ms/step - loss: 8.7885e-04 - val_loss: 0.0137\n",
            "Epoch 175/200\n",
            "2515/2515 [==============================] - 9s 4ms/step - loss: 8.0813e-04 - val_loss: 0.0139\n",
            "Epoch 176/200\n",
            "2515/2515 [==============================] - 9s 4ms/step - loss: 8.5873e-04 - val_loss: 0.0132\n",
            "Epoch 177/200\n",
            "2515/2515 [==============================] - 12s 5ms/step - loss: 8.7604e-04 - val_loss: 0.0134\n",
            "Epoch 178/200\n",
            "2515/2515 [==============================] - 11s 5ms/step - loss: 8.0820e-04 - val_loss: 0.0133\n",
            "Epoch 179/200\n",
            "2515/2515 [==============================] - 11s 4ms/step - loss: 8.2933e-04 - val_loss: 0.0125\n",
            "Epoch 180/200\n",
            "2515/2515 [==============================] - 9s 3ms/step - loss: 8.2974e-04 - val_loss: 0.0131\n",
            "Epoch 181/200\n",
            "2515/2515 [==============================] - 11s 4ms/step - loss: 8.3397e-04 - val_loss: 0.0127\n",
            "Epoch 182/200\n",
            "2515/2515 [==============================] - 11s 4ms/step - loss: 8.1293e-04 - val_loss: 0.0126\n",
            "Epoch 183/200\n",
            "2515/2515 [==============================] - 9s 3ms/step - loss: 8.4192e-04 - val_loss: 0.0125\n",
            "Epoch 184/200\n",
            "2515/2515 [==============================] - 11s 4ms/step - loss: 8.6494e-04 - val_loss: 0.0120\n",
            "Epoch 185/200\n",
            "2515/2515 [==============================] - 11s 4ms/step - loss: 7.8108e-04 - val_loss: 0.0129\n",
            "Epoch 186/200\n",
            "2515/2515 [==============================] - 11s 4ms/step - loss: 9.2382e-04 - val_loss: 0.0128\n",
            "Epoch 187/200\n",
            "2515/2515 [==============================] - 11s 4ms/step - loss: 7.5413e-04 - val_loss: 0.0130\n",
            "Epoch 188/200\n",
            "2515/2515 [==============================] - 9s 4ms/step - loss: 8.4413e-04 - val_loss: 0.0129\n",
            "Epoch 189/200\n",
            "2515/2515 [==============================] - 9s 4ms/step - loss: 8.0522e-04 - val_loss: 0.0131\n",
            "Epoch 190/200\n",
            "2515/2515 [==============================] - 9s 4ms/step - loss: 8.1864e-04 - val_loss: 0.0121\n",
            "Epoch 191/200\n",
            "2515/2515 [==============================] - 9s 3ms/step - loss: 7.7101e-04 - val_loss: 0.0124\n",
            "Epoch 192/200\n",
            "2515/2515 [==============================] - 9s 3ms/step - loss: 8.2572e-04 - val_loss: 0.0133\n",
            "Epoch 193/200\n",
            "2515/2515 [==============================] - 11s 4ms/step - loss: 8.4332e-04 - val_loss: 0.0129\n",
            "Epoch 194/200\n",
            "2515/2515 [==============================] - 9s 4ms/step - loss: 7.6757e-04 - val_loss: 0.0132\n",
            "Epoch 195/200\n",
            "2515/2515 [==============================] - 9s 3ms/step - loss: 7.8069e-04 - val_loss: 0.0123\n",
            "Epoch 196/200\n",
            "2515/2515 [==============================] - 11s 4ms/step - loss: 7.6438e-04 - val_loss: 0.0128\n",
            "Epoch 197/200\n",
            "2515/2515 [==============================] - 9s 3ms/step - loss: 7.9979e-04 - val_loss: 0.0122\n",
            "Epoch 198/200\n",
            "2515/2515 [==============================] - 9s 4ms/step - loss: 7.8313e-04 - val_loss: 0.0127\n",
            "Epoch 199/200\n",
            "2515/2515 [==============================] - 11s 4ms/step - loss: 9.9043e-04 - val_loss: 0.0121\n",
            "Epoch 200/200\n",
            "2515/2515 [==============================] - 11s 4ms/step - loss: 7.6153e-04 - val_loss: 0.0125\n"
          ],
          "name": "stdout"
        }
      ]
    },
    {
      "cell_type": "code",
      "metadata": {
        "colab": {
          "base_uri": "https://localhost:8080/",
          "height": 269
        },
        "id": "9V278FFvyJGu",
        "outputId": "7e219ad9-aa42-4a78-ab19-4f25e56d7ef9"
      },
      "source": [
        "plt.plot(history.history['loss'], label='train')\n",
        "plt.plot(history.history['val_loss'], label='test')\n",
        "plt.axis([-5, 100, 0, 0.07])\n",
        "plt.legend()\n",
        "plt.show()"
      ],
      "execution_count": null,
      "outputs": [
        {
          "output_type": "display_data",
          "data": {
            "image/png": "[encoded data removed]",
            "text/plain": [
              "<Figure size 432x288 with 1 Axes>"
            ]
          },
          "metadata": {
            "tags": []
          }
        }
      ]
    },
    {
      "cell_type": "code",
      "metadata": {
        "colab": {
          "base_uri": "https://localhost:8080/",
          "height": 265
        },
        "id": "qwMhNXnnyMwW",
        "outputId": "338c5530-4dfa-4f38-ba9d-8baab4ea774b"
      },
      "source": [
        "yhat = model.predict(testX)\n",
        "tyhat = model.predict(trainX)\n",
        "plt.plot(yhat, label='Prediction')\n",
        "plt.plot(testY, label='Real data')\n",
        "plt.legend()\n",
        "plt.show()"
      ],
      "execution_count": null,
      "outputs": [
        {
          "output_type": "display_data",
          "data": {
            "image/png": "[encoded data removed]",
            "text/plain": [
              "<Figure size 432x288 with 1 Axes>"
            ]
          },
          "metadata": {
            "tags": []
          }
        }
      ]
    },
    {
      "cell_type": "code",
      "metadata": {
        "colab": {
          "base_uri": "https://localhost:8080/"
        },
        "id": "nE4HqDMGyRDR",
        "outputId": "2f0360a6-5749-4ae3-9ce1-3cafdf1d32df"
      },
      "source": [
        "print(\"Shape of train data :\", trainX.shape)\n",
        "print(\"Shape of prediction :\", yhat.shape)\n",
        "print(\"Shape of real data :\", testY.shape)"
      ],
      "execution_count": null,
      "outputs": [
        {
          "output_type": "stream",
          "text": [
            "Shape of train data : (50284, 1, 1)\n",
            "Shape of prediction : (50284, 1)\n",
            "Shape of real data : (50284,)\n"
          ],
          "name": "stdout"
        }
      ]
    },
    {
      "cell_type": "code",
      "metadata": {
        "colab": {
          "base_uri": "https://localhost:8080/"
        },
        "id": "Yrpk1SiAyYu-",
        "outputId": "e4e62baa-94dc-41d2-a609-47a57a9978eb"
      },
      "source": [
        "rmse = math.sqrt(mean_squared_error(testY, yhat))\n",
        "mae = mean_absolute_error(testY, yhat)\n",
        "print('Test RMSE: %.3f' % rmse)\n",
        "print('Test MAE: %.3f' % mae)"
      ],
      "execution_count": null,
      "outputs": [
        {
          "output_type": "stream",
          "text": [
            "Test RMSE: 0.015\n",
            "Test MAE: 0.013\n"
          ],
          "name": "stdout"
        }
      ]
    },
    {
      "cell_type": "code",
      "metadata": {
        "colab": {
          "base_uri": "https://localhost:8080/"
        },
        "id": "BBl4ZTuMyccE",
        "outputId": "513840cb-07e7-4d4a-c67b-f27e01978550"
      },
      "source": [
        "print(\"Shape of cycle :\", np.shape(output))\n",
        "\n",
        "cycle1 = output[0:train_size-1]\n",
        "cycle2 = output[train_size+1:len(dataset)]\n",
        "\n",
        "# cycle1 = cycle[0:train_size]\n",
        "# cycle2 = cycle[train_size:len(dataset)]\n",
        "\n",
        "print(np.shape(cycle1), np.shape(cycle2))"
      ],
      "execution_count": null,
      "outputs": [
        {
          "output_type": "stream",
          "text": [
            "Shape of cycle : (100570,)\n",
            "(50284,) (50284,)\n"
          ],
          "name": "stdout"
        }
      ]
    },
    {
      "cell_type": "code",
      "metadata": {
        "colab": {
          "base_uri": "https://localhost:8080/",
          "height": 521
        },
        "id": "vixOTZUTyf0c",
        "outputId": "9273e660-3961-4212-c19b-a9aa41a0909a"
      },
      "source": [
        "sns.set_style(\"darkgrid\")\n",
        "plt.figure(figsize=(12, 8))\n",
        "\n",
        "plt.plot(cycle1, trainX[:,0],label='Used real data', linewidth = 3, color='r')\n",
        "plt.plot(cycle2, testY,label='Real data', linewidth = 3, color='b')\n",
        "# plt.plot(cycle2, yhat[:,0],label='LSTM Prediction', linewidth = 3, color='g')\n",
        "plt.plot(cycle2, yhat[:,0],label='LSTM Prediction', linewidth = 3, color='g')\n",
        "plt.legend(prop={'size': 16})\n",
        "\n",
        "plt.ylabel('SoH', fontsize = 15)\n",
        "plt.xlabel('terminal_voltage', fontsize = 15)\n",
        "plt.title(\" SOH Prediction\", fontsize = 15)\n",
        "plt.show()"
      ],
      "execution_count": null,
      "outputs": [
        {
          "output_type": "display_data",
          "data": {
            "image/png": "[encoded data removed]",
            "text/plain": [
              "<Figure size 864x576 with 1 Axes>"
            ]
          },
          "metadata": {
            "tags": []
          }
        }
      ]
    }
  ]
}